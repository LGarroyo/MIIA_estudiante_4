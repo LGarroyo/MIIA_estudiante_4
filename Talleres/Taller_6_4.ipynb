{
  "nbformat": 4,
  "nbformat_minor": 0,
  "metadata": {
    "kernelspec": {
      "display_name": "Python 3",
      "language": "python",
      "name": "python3"
    },
    "language_info": {
      "codemirror_mode": {
        "name": "ipython",
        "version": 3
      },
      "file_extension": ".py",
      "mimetype": "text/x-python",
      "name": "python",
      "nbconvert_exporter": "python",
      "pygments_lexer": "ipython3",
      "version": "3.7.10"
    },
    "colab": {
      "name": "Taller_6_4.ipynb",
      "provenance": [],
      "include_colab_link": true
    }
  },
  "cells": [
    {
      "cell_type": "markdown",
      "metadata": {
        "id": "view-in-github",
        "colab_type": "text"
      },
      "source": [
        "<a href=\"https://colab.research.google.com/github/LGarroyo/MIIA_estudiante_4/blob/main/Talleres/Taller_6_4.ipynb\" target=\"_parent\"><img src=\"https://colab.research.google.com/assets/colab-badge.svg\" alt=\"Open In Colab\"/></a>"
      ]
    },
    {
      "cell_type": "markdown",
      "metadata": {
        "deletable": false,
        "editable": false,
        "nbgrader": {
          "cell_type": "markdown",
          "checksum": "c7627cfba51a3173dc3ad54dd43beace",
          "grade": false,
          "grade_id": "header",
          "locked": true,
          "schema_version": 3,
          "solution": false,
          "task": false
        },
        "id": "W5Q4dGvyUF_Y"
      },
      "source": [
        "<img src=\"Archivos/miad4.png\" width=800x>\n",
        "\n",
        "# Explorar y modificar bases de datos utilizando `pandas`\n",
        "\n",
        "En este taller filtrarás y modificarás bases de datos por medio de sus índices al resolver diversos ejercicios. \n",
        "\n",
        "## Habilidades en práctica\n",
        "\n",
        "Al realizar este taller podrás revisar tu progreso para:\n",
        "\n",
        "**1.** Indexar un `DataFrame` empleando índices unitarios o múltiples. <br>\n",
        "**2.** Aplicar los distintos tipos de filtrado utilizando `pandas`.<br>\n",
        "**3.** Emplear algunos métodos de `pandas` para modificar una base de datos. <br>\n",
        "\n",
        "## Instrucciones\n",
        "\n",
        "En cada uno de los siguientes ejercicios deberás escribir el código solicitado estrictamente en las celdas indicadas para ello, teniendo en cuenta las siguientes recomendaciones:\n",
        "\n",
        "* No crear, eliminar o modificar celdas de este Notebook (salvo lo que se te indique), pues puede verse afectado el proceso de calificación automática.\n",
        "\n",
        "* La calificación se realiza de manera automática con datos diferentes a los proporcionados en este taller. Por consiguiente, tu código debe funcionar para diferentes instancias de cada uno de los ejercicios; una instancia hace referencia a los posibles valores de los parámetros.\n",
        "\n",
        "* La calificación de cada ejercicio depende del valor que retorne la función especificada en su enunciado. Por lo tanto, aunque implementes funciones adicionales, es escencial que utilices los nombres propuestos en los enunciados de los ejercicios para implementar la función definitiva."
      ]
    },
    {
      "cell_type": "markdown",
      "metadata": {
        "deletable": false,
        "editable": false,
        "nbgrader": {
          "cell_type": "markdown",
          "checksum": "68d388c33cbffb74323dd75af9db7dea",
          "grade": false,
          "grade_id": "bloque-ejer",
          "locked": true,
          "schema_version": 3,
          "solution": false,
          "task": false
        },
        "id": "iqd6W8RAUF_h"
      },
      "source": [
        "## Ejercicios\n",
        "En la siguente celda encuentras declarados los paquetes necesarios para el desarollo de este taller."
      ]
    },
    {
      "cell_type": "code",
      "metadata": {
        "deletable": false,
        "editable": false,
        "nbgrader": {
          "cell_type": "code",
          "checksum": "7fb1d272d45a00910c68d14f0b06dbe1",
          "grade": false,
          "grade_id": "import",
          "locked": true,
          "schema_version": 3,
          "solution": false,
          "task": false
        },
        "id": "wmEr-wfsUF_j"
      },
      "source": [
        "# Esta celda no es modificable\n",
        "\n",
        "import numpy as np\n",
        "import pandas as pd"
      ],
      "execution_count": 1,
      "outputs": []
    },
    {
      "cell_type": "markdown",
      "metadata": {
        "deletable": false,
        "editable": false,
        "nbgrader": {
          "cell_type": "markdown",
          "checksum": "68d50fb37bf3acb5c66623ae44037b83",
          "grade": false,
          "grade_id": "ej1-enun",
          "locked": true,
          "schema_version": 3,
          "solution": false,
          "task": false
        },
        "id": "h7acZAFTUF_l"
      },
      "source": [
        "### Ejercicio 1\n",
        "\n",
        "Junto a este Notebook encontrarás un archivo llamado `\"pooled_data_public.dta\"` que contiene la base de datos completa del BID. Este archivo, al ser de tipo *.dta*, requiere de una función de `pandas` para ser importado a Python.\n",
        "\n",
        "    read_stata(file = \"Archivos/pooled_data_public.dta\")"
      ]
    },
    {
      "cell_type": "markdown",
      "metadata": {
        "deletable": false,
        "editable": false,
        "nbgrader": {
          "cell_type": "markdown",
          "checksum": "32d7d73b01da2a9d9689f44e42428313",
          "grade": false,
          "grade_id": "ej1-task",
          "locked": true,
          "schema_version": 3,
          "solution": false,
          "task": false
        },
        "id": "CQQQQmKPUF_n"
      },
      "source": [
        "Implementa una función llamada `importar_e_indexar` que no reciba parámetros, importe los datos del archivo `\"pooled_data_public.dta\"` y retorne un `DataFrame` cuyo índice (`index`) sea la columna `'id'` de la base de datos sin incluirla en las columnas del `DataFrame` resultante.\n",
        "\n",
        "La función debe retornar un `DataFrame`."
      ]
    },
    {
      "cell_type": "code",
      "metadata": {
        "deletable": false,
        "nbgrader": {
          "cell_type": "code",
          "checksum": "36077906e0c130d2845e25e45c280f50",
          "grade": false,
          "grade_id": "ej1-sol",
          "locked": false,
          "schema_version": 3,
          "solution": true,
          "task": false
        },
        "id": "MmzXmw3JUF_o",
        "colab": {
          "base_uri": "https://localhost:8080/"
        },
        "outputId": "f4f7ac19-f241-468d-9391-9fc7547a326e"
      },
      "source": [
        "# YOUR CODE HERE\n",
        "#from google.colab import drive\n",
        "#drive.mount(\"/content/gdrive\") ##Esto porque trabajé en google colab\n",
        "def importar_e_indexar():\n",
        "  df=pd.read_stata(\"/Archivos/pooled_data_public.dta\",index_col=\"id\")\n",
        "  return df"
      ],
      "execution_count": 2,
      "outputs": [
        {
          "output_type": "stream",
          "name": "stdout",
          "text": [
            "Mounted at /content/gdrive\n"
          ]
        }
      ]
    },
    {
      "cell_type": "code",
      "metadata": {
        "deletable": false,
        "editable": false,
        "nbgrader": {
          "cell_type": "code",
          "checksum": "d92757ea64173729c2fbd130a4465344",
          "grade": true,
          "grade_id": "ej1-test",
          "locked": true,
          "points": 1,
          "schema_version": 3,
          "solution": false,
          "task": false
        },
        "colab": {
          "base_uri": "https://localhost:8080/",
          "height": 252
        },
        "id": "uOIfVjtIUF_p",
        "outputId": "4b983809-62cf-40c8-e243-c28f3d7c5594"
      },
      "source": [
        "## AUTO-CALIFICADOR\n",
        "\n",
        "# Base variables\n",
        "import inspect\n",
        "\n",
        "nombre_columnas = ['country_code', 'country_name', 'weight', 'weight_pop', 'pop', 'recordeddate', 'genero', 'edad', 'educ', 'estcivil', 'nrhogar', 'nrhogar_antes', 'hayninhos', 'ninos_5', 'nrninhos', 'matriculados', 'esc_publica', 'grado', 'haymayores', 'diasmercado', 'lugarmercado', 'comprotodo', 'nocompra_pan', 'nocompra_vegetal', 'nocompra_carne', 'nocompra_envasados', 'nocompra_bebidas', 'nocompra_limpieza', 'nocompra_medicinas', 'nocompra_otro', 'nrnegocios', 'esperarfila', 'subaprecios', 'hambre', 'menos_saludable', 'vivienda', 'probvivienda', 'probvivienda_prox', 'ayuda_alquiler', 'sufialimento', 'sufirecursos', 'gasto_emergencia', 'monto_gasto', 'pre_cash', 'new_cash', 'coima', 'tiene_banco', 'tiene_tarjdebito', 'tiene_segsaludpub', 'tiene_segsaludpriv', 'recibeprestamos', 'darprestamos', 'remesas_enero', 'remesas_origen', 'remesas_persona', 'recibio_remesas', 'lm_perdioempleo', 'lm_cerronegocio_gob', 'lm_cerronegocio_dem', 'lm_asistmedica', 'lm_perdioingrarriendo', 'lm_dejoasistencia', 'lm_freq', 'recibio_ayudaemp', 'compromiso_futurotrabajo', 'empleo_formal', 'actividad_empleado', 'actividad_negocio', 'actividad_estudio', 'trabajocasa', 'diastrabajo', 'horastrabajo', 'sector', 'redujo_ingreso', 'ingreso_jan2020', 'ingreso_apr2020', 'retorno_ingreso', 'sintoma_ninguno', 'sintoma_garganta', 'sintoma_gripe', 'sintoma_sarpullido', 'sintoma_fiebre', 'sintoma_tos', 'conoce_sintomas', 'infectados_sinsintomas', 'sinsintomas_contagiar', 'visito_trabajo', 'visito_hospital', 'visito_mercado', 'visito_banco', 'visito_amigos', 'visito_familiares', 'visito_ejercitar', 'visito_iglesia', 'comotransmite', 'sabe_comotransmite', 'distsoc', 'recom_trabajo', 'recom_hospital', 'recom_mercado', 'recom_banco', 'recom_amigos', 'recom_familiares', 'recom_ejercicio', 'recom_iglesia', 'haceds_hogar', 'haceds_vecinos', 'haceds_jovenes', 'haceds_mayores', 'haceds_otropais', 'haceds_emplmercados', 'medios_noti_redessociales', 'medios_noti_chat', 'medios_noti_periodicos', 'medios_noti_tv', 'medios_noti_radio', 'medios_covid_redessociales', 'medios_covid_chat', 'medios_covid_periodicos', 'medios_covid_tv', 'medios_covid_radio', 'nps_medio_redessoc', 'nps_medio_sms', 'nps_medio_periodico', 'nps_medio_tv', 'nps_medio_radio', 'nps_medio_website', 'nps_medio_otro']\n",
        "tipo_columnas = ['CategoricalDtype', 'dtype[object_]', 'dtype[float32]', 'dtype[float32]', 'dtype[float64]', 'dtype[object_]', 'CategoricalDtype', 'dtype[int16]', 'CategoricalDtype', 'CategoricalDtype', 'dtype[int8]', 'dtype[int8]', 'CategoricalDtype', 'CategoricalDtype', 'dtype[float64]', 'dtype[float64]', 'CategoricalDtype', 'dtype[float64]', 'CategoricalDtype', 'CategoricalDtype', 'CategoricalDtype', 'CategoricalDtype', 'CategoricalDtype', 'CategoricalDtype', 'CategoricalDtype', 'CategoricalDtype', 'CategoricalDtype', 'CategoricalDtype', 'CategoricalDtype', 'CategoricalDtype', 'CategoricalDtype', 'CategoricalDtype', 'CategoricalDtype', 'CategoricalDtype', 'CategoricalDtype', 'CategoricalDtype', 'CategoricalDtype', 'CategoricalDtype', 'CategoricalDtype', 'CategoricalDtype', 'CategoricalDtype', 'CategoricalDtype', 'dtype[float32]', 'CategoricalDtype', 'CategoricalDtype', 'CategoricalDtype', 'CategoricalDtype', 'CategoricalDtype', 'CategoricalDtype', 'CategoricalDtype', 'CategoricalDtype', 'CategoricalDtype', 'CategoricalDtype', 'dtype[float64]', 'CategoricalDtype', 'CategoricalDtype', 'CategoricalDtype', 'CategoricalDtype', 'CategoricalDtype', 'CategoricalDtype', 'CategoricalDtype', 'CategoricalDtype', 'dtype[float64]', 'CategoricalDtype', 'CategoricalDtype', 'CategoricalDtype', 'CategoricalDtype', 'CategoricalDtype', 'CategoricalDtype', 'CategoricalDtype', 'dtype[int8]', 'dtype[int8]', 'CategoricalDtype', 'CategoricalDtype', 'CategoricalDtype', 'CategoricalDtype', 'CategoricalDtype', 'CategoricalDtype', 'CategoricalDtype', 'CategoricalDtype', 'CategoricalDtype', 'CategoricalDtype', 'CategoricalDtype', 'dtype[float32]', 'CategoricalDtype', 'CategoricalDtype', 'CategoricalDtype', 'CategoricalDtype', 'CategoricalDtype', 'CategoricalDtype', 'CategoricalDtype', 'CategoricalDtype', 'CategoricalDtype', 'CategoricalDtype', 'dtype[object_]', 'CategoricalDtype', 'CategoricalDtype', 'CategoricalDtype', 'CategoricalDtype', 'CategoricalDtype', 'CategoricalDtype', 'CategoricalDtype', 'CategoricalDtype', 'CategoricalDtype', 'CategoricalDtype', 'CategoricalDtype', 'CategoricalDtype', 'CategoricalDtype', 'CategoricalDtype', 'CategoricalDtype', 'CategoricalDtype', 'CategoricalDtype', 'CategoricalDtype', 'CategoricalDtype', 'CategoricalDtype', 'CategoricalDtype', 'CategoricalDtype', 'CategoricalDtype', 'CategoricalDtype', 'CategoricalDtype', 'CategoricalDtype', 'CategoricalDtype', 'CategoricalDtype', 'CategoricalDtype', 'CategoricalDtype', 'CategoricalDtype', 'CategoricalDtype', 'CategoricalDtype']\n",
        "\n",
        "# Caso 1: no existe la función.\n",
        "try:\n",
        "    source = inspect.getsource(importar_e_indexar)\n",
        "    assert type(importar_e_indexar) == type(lambda:None)\n",
        "except:\n",
        "    raise NotImplementedError(\"No existe una función llamada importar_e_indexar.\",)\n",
        "    \n",
        "# Caso 2: la función es interrumpida por errores durante su ejecución.\n",
        "try:\n",
        "    resultado = importar_e_indexar()\n",
        "except:\n",
        "    raise RuntimeError(\"Tu función produce un error al ejecutarse.\")\n",
        "\n",
        "# Caso 3: no retorna un DataFrame\n",
        "assert type(resultado) == pd.DataFrame, f\"Tu función debe retornar un valor de tipo {pd.DataFrame.__name__}.\"\n",
        "\n",
        "# Caso 4: no utiliza el nombre del archivo\n",
        "assert source.find(\"pooled_data_public.dta\") >= 0, \"Tu código no hace referencia al archivo 'pooled_data_public.dta'.\"\n",
        "\n",
        "# Caso 5: retorna el dataframe con la columna 'id'\n",
        "assert \"id\" not in resultado.columns, \"Tu función retorna un DataFrame que incluye la columna 'id'. Debes convertir esta columna en el index del DataFrame.\"\n",
        "\n",
        "# Caso 6: retorna un dataframe con cantidad de columnas errada\n",
        "assert resultado.shape[1] == 128, \"Tu función retorna un DataFrame con cantidad de columnas errada.\"\n",
        "\n",
        "# Caso 7: devuelve un dataframe cuyas columnas tienen nombre distinto de lo esperado\n",
        "assert [*resultado.columns] == nombre_columnas, \"Tu función retorna un DataFrame con columnas cuyos nombres no coinciden con los de los datos del archivo.\"\n",
        "\n",
        "# Caso 8: devuelve un dataframe cuyas columnas tienen tipo distinto de lo esperado\n",
        "assert [i.__class__.__name__ for i in resultado.dtypes] == tipo_columnas, \"Tu función retorna un DataFrame con columnas cuyos tipos no coinciden con los de los datos del archivo.\"\n",
        "\n",
        "# Caso 9: devuelve un dataframe con cantidad de filas errada\n",
        "assert resultado.shape[0] == 230509, \"Tu función retorna un DataFrame con cantidad de filas errada.\"\n",
        "\n",
        "# Caso 10: devuelve un dataframe con indice del mismo tipo que por defecto ('int64')\n",
        "assert resultado.index.dtype.name != 'int64', \"Tu función retorna un DataFrame con índice del mismo tipo que el que se crea por defecto en pandas. Asegurate de estar asignando la columna 'id' al índice.\"\n",
        "\n",
        "# Caso 11: devuelve un dataframe con índice de tipo errado\n",
        "assert resultado.index.dtype.name == 'float64', \"Tu función retorna un DataFrame con índice de tipo distinto del esperado. Asegurate de estar usando la columna 'id' sin editarla.\"\n",
        "\n",
        "# Caso 12: el índice no tiene el nombre de la columna 'id'\n",
        "assert resultado.index.name == 'id', \"Tu función retorna un DataFrame con índice de nombre distinto de la columna 'id'.\"\n",
        "\n",
        "# Caso 13: primer o última posicion del índice distintas de lo esperado\n",
        "assert resultado.index[0] == 1000060.0, \"Tu función retorna un DataFrame que es errado por lo menos en la primera posición de su índice\"\n",
        "assert resultado.index[len(resultado.index) - 1] == 17003990.0, \"Tu función retorna un DataFrame que es errado por lo menos en la última posición de su índice\"\n",
        "\n",
        "\n",
        "\n",
        "\n",
        "# Mensaje de felicitaciones\n",
        "print(\"Felicidades, realizaste este ejercicio correctamente.\")"
      ],
      "execution_count": 3,
      "outputs": [
        {
          "output_type": "error",
          "ename": "AssertionError",
          "evalue": "ignored",
          "traceback": [
            "\u001b[0;31m---------------------------------------------------------------------------\u001b[0m",
            "\u001b[0;31mAssertionError\u001b[0m                            Traceback (most recent call last)",
            "\u001b[0;32m<ipython-input-3-0b10bd9fc71d>\u001b[0m in \u001b[0;36m<module>\u001b[0;34m()\u001b[0m\n\u001b[1;32m     36\u001b[0m \u001b[0;34m\u001b[0m\u001b[0m\n\u001b[1;32m     37\u001b[0m \u001b[0;31m# Caso 8: devuelve un dataframe cuyas columnas tienen tipo distinto de lo esperado\u001b[0m\u001b[0;34m\u001b[0m\u001b[0;34m\u001b[0m\u001b[0;34m\u001b[0m\u001b[0m\n\u001b[0;32m---> 38\u001b[0;31m \u001b[0;32massert\u001b[0m \u001b[0;34m[\u001b[0m\u001b[0mi\u001b[0m\u001b[0;34m.\u001b[0m\u001b[0m__class__\u001b[0m\u001b[0;34m.\u001b[0m\u001b[0m__name__\u001b[0m \u001b[0;32mfor\u001b[0m \u001b[0mi\u001b[0m \u001b[0;32min\u001b[0m \u001b[0mresultado\u001b[0m\u001b[0;34m.\u001b[0m\u001b[0mdtypes\u001b[0m\u001b[0;34m]\u001b[0m \u001b[0;34m==\u001b[0m \u001b[0mtipo_columnas\u001b[0m\u001b[0;34m,\u001b[0m \u001b[0;34m\"Tu función retorna un DataFrame con columnas cuyos tipos no coinciden con los de los datos del archivo.\"\u001b[0m\u001b[0;34m\u001b[0m\u001b[0;34m\u001b[0m\u001b[0m\n\u001b[0m\u001b[1;32m     39\u001b[0m \u001b[0;34m\u001b[0m\u001b[0m\n\u001b[1;32m     40\u001b[0m \u001b[0;31m# Caso 9: devuelve un dataframe con cantidad de filas errada\u001b[0m\u001b[0;34m\u001b[0m\u001b[0;34m\u001b[0m\u001b[0;34m\u001b[0m\u001b[0m\n",
            "\u001b[0;31mAssertionError\u001b[0m: Tu función retorna un DataFrame con columnas cuyos tipos no coinciden con los de los datos del archivo."
          ]
        }
      ]
    },
    {
      "cell_type": "markdown",
      "metadata": {
        "deletable": false,
        "editable": false,
        "nbgrader": {
          "cell_type": "markdown",
          "checksum": "f239639100a29b229eb5a7d0c3cb2917",
          "grade": false,
          "grade_id": "ej2-enun-task",
          "locked": true,
          "schema_version": 3,
          "solution": false,
          "task": false
        },
        "id": "CL1syytgUF_x"
      },
      "source": [
        "### Ejercicio 2\n",
        "\n",
        "Implementa una función llamada `indice_sencillo_a_multiple` que no reciba parámetros, tome el `DataFrame` resultante del [Ejercicio 1](#Ejercicio-1) y modifique el `DataFrame` de manera que su índice (`index`) consista de tuplas compuestas por el valor del índice original y el valor correspondiente en la columna `\"country_code\"`. No incluya la columna `\"country_code\"` en el `DataFrame` resultante.\n",
        "\n",
        "La función debe retornar un `DataFrame`."
      ]
    },
    {
      "cell_type": "code",
      "metadata": {
        "deletable": false,
        "nbgrader": {
          "cell_type": "code",
          "checksum": "289eed4fea8e3d3881a1d30d07b70bbb",
          "grade": false,
          "grade_id": "ej2-sol",
          "locked": false,
          "schema_version": 3,
          "solution": true,
          "task": false
        },
        "id": "kE2kBXN4UF_y"
      },
      "source": [
        "# YOUR CODE HERE\n",
        "def indice_sencillo_a_multiple():\n",
        "  resultado=importar_e_indexar()\n",
        "  new_index= pd.MultiIndex.from_arrays([resultado.index.values,resultado[\"country_code\"]],names=[\"id\",\"country_code\"])\n",
        "  resultado.index = new_index \n",
        "  resultado=resultado.drop(['country_code'], axis=1)\n",
        "  return resultado"
      ],
      "execution_count": 15,
      "outputs": []
    },
    {
      "cell_type": "code",
      "metadata": {
        "deletable": false,
        "editable": false,
        "nbgrader": {
          "cell_type": "code",
          "checksum": "00481fab75a8fa423dc629886bbb8403",
          "grade": true,
          "grade_id": "ej2-test",
          "locked": true,
          "points": 1,
          "schema_version": 3,
          "solution": false,
          "task": false
        },
        "id": "3CMHE8cVUF_z",
        "colab": {
          "base_uri": "https://localhost:8080/",
          "height": 252
        },
        "outputId": "5aeef393-7c14-4c7c-82b0-ea894892a765"
      },
      "source": [
        "## AUTO-CALIFICADOR\n",
        "\n",
        "# Base variables\n",
        "import inspect\n",
        "\n",
        "nombre_columnas = ['country_name', 'weight', 'weight_pop', 'pop', 'recordeddate', 'genero', 'edad', 'educ', 'estcivil', 'nrhogar', 'nrhogar_antes', 'hayninhos', 'ninos_5', 'nrninhos', 'matriculados', 'esc_publica', 'grado', 'haymayores', 'diasmercado', 'lugarmercado', 'comprotodo', 'nocompra_pan', 'nocompra_vegetal', 'nocompra_carne', 'nocompra_envasados', 'nocompra_bebidas', 'nocompra_limpieza', 'nocompra_medicinas', 'nocompra_otro', 'nrnegocios', 'esperarfila', 'subaprecios', 'hambre', 'menos_saludable', 'vivienda', 'probvivienda', 'probvivienda_prox', 'ayuda_alquiler', 'sufialimento', 'sufirecursos', 'gasto_emergencia', 'monto_gasto', 'pre_cash', 'new_cash', 'coima', 'tiene_banco', 'tiene_tarjdebito', 'tiene_segsaludpub', 'tiene_segsaludpriv', 'recibeprestamos', 'darprestamos', 'remesas_enero', 'remesas_origen', 'remesas_persona', 'recibio_remesas', 'lm_perdioempleo', 'lm_cerronegocio_gob', 'lm_cerronegocio_dem', 'lm_asistmedica', 'lm_perdioingrarriendo', 'lm_dejoasistencia', 'lm_freq', 'recibio_ayudaemp', 'compromiso_futurotrabajo', 'empleo_formal', 'actividad_empleado', 'actividad_negocio', 'actividad_estudio', 'trabajocasa', 'diastrabajo', 'horastrabajo', 'sector', 'redujo_ingreso', 'ingreso_jan2020', 'ingreso_apr2020', 'retorno_ingreso', 'sintoma_ninguno', 'sintoma_garganta', 'sintoma_gripe', 'sintoma_sarpullido', 'sintoma_fiebre', 'sintoma_tos', 'conoce_sintomas', 'infectados_sinsintomas', 'sinsintomas_contagiar', 'visito_trabajo', 'visito_hospital', 'visito_mercado', 'visito_banco', 'visito_amigos', 'visito_familiares', 'visito_ejercitar', 'visito_iglesia', 'comotransmite', 'sabe_comotransmite', 'distsoc', 'recom_trabajo', 'recom_hospital', 'recom_mercado', 'recom_banco', 'recom_amigos', 'recom_familiares', 'recom_ejercicio', 'recom_iglesia', 'haceds_hogar', 'haceds_vecinos', 'haceds_jovenes', 'haceds_mayores', 'haceds_otropais', 'haceds_emplmercados', 'medios_noti_redessociales', 'medios_noti_chat', 'medios_noti_periodicos', 'medios_noti_tv', 'medios_noti_radio', 'medios_covid_redessociales', 'medios_covid_chat', 'medios_covid_periodicos', 'medios_covid_tv', 'medios_covid_radio', 'nps_medio_redessoc', 'nps_medio_sms', 'nps_medio_periodico', 'nps_medio_tv', 'nps_medio_radio', 'nps_medio_website', 'nps_medio_otro']\n",
        "tipo_columnas = ['dtype[object_]', 'dtype[float32]', 'dtype[float32]', 'dtype[float64]', 'dtype[object_]', 'CategoricalDtype', 'dtype[int16]', 'CategoricalDtype', 'CategoricalDtype', 'dtype[int8]', 'dtype[int8]', 'CategoricalDtype', 'CategoricalDtype', 'dtype[float64]', 'dtype[float64]', 'CategoricalDtype', 'dtype[float64]', 'CategoricalDtype', 'CategoricalDtype', 'CategoricalDtype', 'CategoricalDtype', 'CategoricalDtype', 'CategoricalDtype', 'CategoricalDtype', 'CategoricalDtype', 'CategoricalDtype', 'CategoricalDtype', 'CategoricalDtype', 'CategoricalDtype', 'CategoricalDtype', 'CategoricalDtype', 'CategoricalDtype', 'CategoricalDtype', 'CategoricalDtype', 'CategoricalDtype', 'CategoricalDtype', 'CategoricalDtype', 'CategoricalDtype', 'CategoricalDtype', 'CategoricalDtype', 'CategoricalDtype', 'dtype[float32]', 'CategoricalDtype', 'CategoricalDtype', 'CategoricalDtype', 'CategoricalDtype', 'CategoricalDtype', 'CategoricalDtype', 'CategoricalDtype', 'CategoricalDtype', 'CategoricalDtype', 'CategoricalDtype', 'dtype[float64]', 'CategoricalDtype', 'CategoricalDtype', 'CategoricalDtype', 'CategoricalDtype', 'CategoricalDtype', 'CategoricalDtype', 'CategoricalDtype', 'CategoricalDtype', 'dtype[float64]', 'CategoricalDtype', 'CategoricalDtype', 'CategoricalDtype', 'CategoricalDtype', 'CategoricalDtype', 'CategoricalDtype', 'CategoricalDtype', 'dtype[int8]', 'dtype[int8]', 'CategoricalDtype', 'CategoricalDtype', 'CategoricalDtype', 'CategoricalDtype', 'CategoricalDtype', 'CategoricalDtype', 'CategoricalDtype', 'CategoricalDtype', 'CategoricalDtype', 'CategoricalDtype', 'CategoricalDtype', 'dtype[float32]', 'CategoricalDtype', 'CategoricalDtype', 'CategoricalDtype', 'CategoricalDtype', 'CategoricalDtype', 'CategoricalDtype', 'CategoricalDtype', 'CategoricalDtype', 'CategoricalDtype', 'CategoricalDtype', 'dtype[object_]', 'CategoricalDtype', 'CategoricalDtype', 'CategoricalDtype', 'CategoricalDtype', 'CategoricalDtype', 'CategoricalDtype', 'CategoricalDtype', 'CategoricalDtype', 'CategoricalDtype', 'CategoricalDtype', 'CategoricalDtype', 'CategoricalDtype', 'CategoricalDtype', 'CategoricalDtype', 'CategoricalDtype', 'CategoricalDtype', 'CategoricalDtype', 'CategoricalDtype', 'CategoricalDtype', 'CategoricalDtype', 'CategoricalDtype', 'CategoricalDtype', 'CategoricalDtype', 'CategoricalDtype', 'CategoricalDtype', 'CategoricalDtype', 'CategoricalDtype', 'CategoricalDtype', 'CategoricalDtype', 'CategoricalDtype', 'CategoricalDtype', 'CategoricalDtype', 'CategoricalDtype']\n",
        "\n",
        "# Caso 1: no existe la función.\n",
        "try:\n",
        "    source = inspect.getsource(indice_sencillo_a_multiple)\n",
        "    assert type(indice_sencillo_a_multiple) == type(lambda:None)\n",
        "except:\n",
        "    raise NotImplementedError(\"No existe una función llamada indice_sencillo_a_multiple.\",)\n",
        "    \n",
        "# Caso 2: la función es interrumpida por errores durante su ejecución.\n",
        "try:\n",
        "    resultado = indice_sencillo_a_multiple()\n",
        "except:\n",
        "    raise RuntimeError(\"Tu función produce un error al ejecutarse.\")\n",
        "\n",
        "# Caso 3: no retorna un DataFrame\n",
        "assert type(resultado) == pd.DataFrame, f\"Tu función debe retornar un valor de tipo {pd.DataFrame.__name__}.\"\n",
        "\n",
        "# Caso 4: no ejecuta la función importar_e_indexar\n",
        "assert source.find(\"importar_e_indexar()\") >= 0, \"Tu código no hace referencia a la función importar_e_indexar. Asegurate de ejecutarla en tu función.\"\n",
        "\n",
        "# Caso 5: retorna el dataframe con la columna 'id'\n",
        "assert \"id\" not in resultado.columns, \"Tu función retorna un DataFrame que incluye la columna 'id'. Esta columna debes haberla convertido en el index sencillo del DataFrame.\"\n",
        "\n",
        "# Caso 6: retorna el dataframe con la columna 'country_code'\n",
        "assert \"country_code\" not in resultado.columns, \"Tu función retorna un DataFrame que incluye la columna 'country_code'. Esta columna debes haberla unido al index del DataFrame para formar un índice múltiple.\"\n",
        "\n",
        "# Caso 7: retorna un dataframe con cantidad de columnas errada\n",
        "assert resultado.shape[1] == 127, \"Tu función retorna un DataFrame con cantidad de columnas errada.\"\n",
        "\n",
        "# Caso 8: devuelve un dataframe cuyas columnas tienen nombre distinto de lo esperado\n",
        "assert [*resultado.columns] == nombre_columnas, \"Tu función retorna un DataFrame con columnas cuyos nombres no coinciden con los de los datos del archivo.\"\n",
        "\n",
        "# Caso 9: devuelve un dataframe cuyas columnas tienen tipo distinto de lo esperado\n",
        "assert [i.__class__.__name__ for i in resultado.dtypes] == tipo_columnas, \"Tu función retorna un DataFrame con columnas cuyos tipos no coinciden con los de los datos del archivo.\"\n",
        "\n",
        "# Caso 10: devuelve un dataframe con cantidad de filas errada\n",
        "assert resultado.shape[0] == 230509, \"Tu función retorna un DataFrame con cantidad de filas errada.\"\n",
        "\n",
        "# Caso 11: devuelve un dataframe con indice no multiple\n",
        "assert type(resultado.index) == pd.MultiIndex, \"Tu función retorna un DataFrame con índice no múltiple.\"\n",
        "\n",
        "# Caso 12: devuelve un dataframe con primer nivel de indice multiple del mismo tipo que por defecto ('int64')\n",
        "assert resultado.index.get_level_values(0).dtype.name != 'int64', \"Tu función retorna un DataFrame con índice múltiple cuyo primer nivel es del mismo tipo que el que se crea por defecto en pandas. Asegurate de estar asignando la columna 'id' al índice.\"\n",
        "\n",
        "# Caso 13: devuelve un dataframe con primer nivel de indice multiple de tipo errado\n",
        "assert resultado.index.get_level_values(0).dtype.name == 'float64', \"Tu función retorna un DataFrame con índice múltiple cuyo primer nivel es de tipo distinto del esperado. Asegurate de estar usando la columna 'id' sin editarla.\"\n",
        "\n",
        "# Caso 14: devuelve un dataframe con segundo nivel de indice multiple de tipo errado\n",
        "assert resultado.index.get_level_values(1).dtype.name == 'category', \"Tu función retorna un DataFrame con índice múltiple cuyo segundo nivel es de tipo distinto del esperado. Asegurate de estar usando la columna 'country_code' sin editarla.\"\n",
        "\n",
        "# Caso 15: el multiíndice no tiene el nombre de la columna 'id' y 'country_code'\n",
        "assert [*resultado.index.names] == ['id', 'country_code'], \"Tu función retorna un DataFrame con índice de nombres distintos de las columna 'id' y 'country_code'.\"\n",
        "\n",
        "# Caso 16: primera o última posicion del índice distintas de lo esperado\n",
        "assert resultado.index[0] == (1000060.0, 'Bahamas'), \"Tu función retorna un DataFrame que es errado por lo menos en la primera posición de su índice\"\n",
        "assert resultado.index[len(resultado.index) - 1] == (17003990.0, 'Uruguay'), \"Tu función retorna un DataFrame que es errado por lo menos en la última posición de su índice\"\n",
        "\n",
        "\n",
        "# Mensaje de felicitaciones\n",
        "print(\"Felicidades, realizaste este ejercicio correctamente.\")"
      ],
      "execution_count": 17,
      "outputs": [
        {
          "output_type": "error",
          "ename": "AssertionError",
          "evalue": "ignored",
          "traceback": [
            "\u001b[0;31m---------------------------------------------------------------------------\u001b[0m",
            "\u001b[0;31mAssertionError\u001b[0m                            Traceback (most recent call last)",
            "\u001b[0;32m<ipython-input-17-b6353ed752a1>\u001b[0m in \u001b[0;36m<module>\u001b[0;34m()\u001b[0m\n\u001b[1;32m     39\u001b[0m \u001b[0;34m\u001b[0m\u001b[0m\n\u001b[1;32m     40\u001b[0m \u001b[0;31m# Caso 9: devuelve un dataframe cuyas columnas tienen tipo distinto de lo esperado\u001b[0m\u001b[0;34m\u001b[0m\u001b[0;34m\u001b[0m\u001b[0;34m\u001b[0m\u001b[0m\n\u001b[0;32m---> 41\u001b[0;31m \u001b[0;32massert\u001b[0m \u001b[0;34m[\u001b[0m\u001b[0mi\u001b[0m\u001b[0;34m.\u001b[0m\u001b[0m__class__\u001b[0m\u001b[0;34m.\u001b[0m\u001b[0m__name__\u001b[0m \u001b[0;32mfor\u001b[0m \u001b[0mi\u001b[0m \u001b[0;32min\u001b[0m \u001b[0mresultado\u001b[0m\u001b[0;34m.\u001b[0m\u001b[0mdtypes\u001b[0m\u001b[0;34m]\u001b[0m \u001b[0;34m==\u001b[0m \u001b[0mtipo_columnas\u001b[0m\u001b[0;34m,\u001b[0m \u001b[0;34m\"Tu función retorna un DataFrame con columnas cuyos tipos no coinciden con los de los datos del archivo.\"\u001b[0m\u001b[0;34m\u001b[0m\u001b[0;34m\u001b[0m\u001b[0m\n\u001b[0m\u001b[1;32m     42\u001b[0m \u001b[0;34m\u001b[0m\u001b[0m\n\u001b[1;32m     43\u001b[0m \u001b[0;31m# Caso 10: devuelve un dataframe con cantidad de filas errada\u001b[0m\u001b[0;34m\u001b[0m\u001b[0;34m\u001b[0m\u001b[0;34m\u001b[0m\u001b[0m\n",
            "\u001b[0;31mAssertionError\u001b[0m: Tu función retorna un DataFrame con columnas cuyos tipos no coinciden con los de los datos del archivo."
          ]
        }
      ]
    },
    {
      "cell_type": "markdown",
      "metadata": {
        "deletable": false,
        "editable": false,
        "nbgrader": {
          "cell_type": "markdown",
          "checksum": "34d88b106fae47b5b41b5415556e0348",
          "grade": false,
          "grade_id": "ej3-enun-task",
          "locked": true,
          "schema_version": 3,
          "solution": false,
          "task": false
        },
        "id": "QjzZS_IjUF_0"
      },
      "source": [
        "### Ejercicio 3\n",
        "\n",
        "Implementa una función llamada `sin_columnas` que no reciba parámetros, tome el `DataFrame` resultante del [Ejercicio 1](#Ejercicio-1) y lo retorne sin las columnas `\"country_name\"`, `\"grado\"` y `\"coima\"`.\n",
        "\n",
        "Debes hacer uso del método `drop`.\n",
        "\n",
        "La función debe retornar un `DataFrame`."
      ]
    },
    {
      "cell_type": "code",
      "metadata": {
        "deletable": false,
        "nbgrader": {
          "cell_type": "code",
          "checksum": "e32e96e55bd4d8d3b7612a3b109d0ad9",
          "grade": false,
          "grade_id": "ej3-sol",
          "locked": false,
          "schema_version": 3,
          "solution": true,
          "task": false
        },
        "id": "AOfQ_EZhUF_1"
      },
      "source": [
        "# YOUR CODE HERE\n",
        "def sin_columnas():\n",
        "  df=importar_e_indexar()\n",
        "  df=df.drop(['country_name'], axis=1)\n",
        "  df=df.drop(['grado'], axis=1)\n",
        "  df=df.drop(['coima'], axis=1)\n",
        "  return df"
      ],
      "execution_count": 18,
      "outputs": []
    },
    {
      "cell_type": "code",
      "metadata": {
        "deletable": false,
        "editable": false,
        "nbgrader": {
          "cell_type": "code",
          "checksum": "26ac68140c9123cc86ce3fcc5e8c8045",
          "grade": true,
          "grade_id": "ej3-test",
          "locked": true,
          "points": 1,
          "schema_version": 3,
          "solution": false,
          "task": false
        },
        "id": "IzaYKkVPUF_2",
        "colab": {
          "base_uri": "https://localhost:8080/",
          "height": 269
        },
        "outputId": "964835f2-a4c7-4a71-9992-94d03fd6bb21"
      },
      "source": [
        "## AUTO-CALIFICADOR\n",
        "\n",
        "# Base variables\n",
        "import inspect\n",
        "\n",
        "nombre_columnas = ['country_code', 'weight', 'weight_pop', 'pop', 'recordeddate', 'genero', 'edad', 'educ', 'estcivil', 'nrhogar', 'nrhogar_antes', 'hayninhos', 'ninos_5', 'nrninhos', 'matriculados', 'esc_publica', 'haymayores', 'diasmercado', 'lugarmercado', 'comprotodo', 'nocompra_pan', 'nocompra_vegetal', 'nocompra_carne', 'nocompra_envasados', 'nocompra_bebidas', 'nocompra_limpieza', 'nocompra_medicinas', 'nocompra_otro', 'nrnegocios', 'esperarfila', 'subaprecios', 'hambre', 'menos_saludable', 'vivienda', 'probvivienda', 'probvivienda_prox', 'ayuda_alquiler', 'sufialimento', 'sufirecursos', 'gasto_emergencia', 'monto_gasto', 'pre_cash', 'new_cash', 'tiene_banco', 'tiene_tarjdebito', 'tiene_segsaludpub', 'tiene_segsaludpriv', 'recibeprestamos', 'darprestamos', 'remesas_enero', 'remesas_origen', 'remesas_persona', 'recibio_remesas', 'lm_perdioempleo', 'lm_cerronegocio_gob', 'lm_cerronegocio_dem', 'lm_asistmedica', 'lm_perdioingrarriendo', 'lm_dejoasistencia', 'lm_freq', 'recibio_ayudaemp', 'compromiso_futurotrabajo', 'empleo_formal', 'actividad_empleado', 'actividad_negocio', 'actividad_estudio', 'trabajocasa', 'diastrabajo', 'horastrabajo', 'sector', 'redujo_ingreso', 'ingreso_jan2020', 'ingreso_apr2020', 'retorno_ingreso', 'sintoma_ninguno', 'sintoma_garganta', 'sintoma_gripe', 'sintoma_sarpullido', 'sintoma_fiebre', 'sintoma_tos', 'conoce_sintomas', 'infectados_sinsintomas', 'sinsintomas_contagiar', 'visito_trabajo', 'visito_hospital', 'visito_mercado', 'visito_banco', 'visito_amigos', 'visito_familiares', 'visito_ejercitar', 'visito_iglesia', 'comotransmite', 'sabe_comotransmite', 'distsoc', 'recom_trabajo', 'recom_hospital', 'recom_mercado', 'recom_banco', 'recom_amigos', 'recom_familiares', 'recom_ejercicio', 'recom_iglesia', 'haceds_hogar', 'haceds_vecinos', 'haceds_jovenes', 'haceds_mayores', 'haceds_otropais', 'haceds_emplmercados', 'medios_noti_redessociales', 'medios_noti_chat', 'medios_noti_periodicos', 'medios_noti_tv', 'medios_noti_radio', 'medios_covid_redessociales', 'medios_covid_chat', 'medios_covid_periodicos', 'medios_covid_tv', 'medios_covid_radio', 'nps_medio_redessoc', 'nps_medio_sms', 'nps_medio_periodico', 'nps_medio_tv', 'nps_medio_radio', 'nps_medio_website', 'nps_medio_otro']\n",
        "tipo_columnas = ['CategoricalDtype', 'dtype[float32]', 'dtype[float32]', 'dtype[float64]', 'dtype[object_]', 'CategoricalDtype', 'dtype[int16]', 'CategoricalDtype', 'CategoricalDtype', 'dtype[int8]', 'dtype[int8]', 'CategoricalDtype', 'CategoricalDtype', 'dtype[float64]', 'dtype[float64]', 'CategoricalDtype', 'CategoricalDtype', 'CategoricalDtype', 'CategoricalDtype', 'CategoricalDtype', 'CategoricalDtype', 'CategoricalDtype', 'CategoricalDtype', 'CategoricalDtype', 'CategoricalDtype', 'CategoricalDtype', 'CategoricalDtype', 'CategoricalDtype', 'CategoricalDtype', 'CategoricalDtype', 'CategoricalDtype', 'CategoricalDtype', 'CategoricalDtype', 'CategoricalDtype', 'CategoricalDtype', 'CategoricalDtype', 'CategoricalDtype', 'CategoricalDtype', 'CategoricalDtype', 'CategoricalDtype', 'dtype[float32]', 'CategoricalDtype', 'CategoricalDtype', 'CategoricalDtype', 'CategoricalDtype', 'CategoricalDtype', 'CategoricalDtype', 'CategoricalDtype', 'CategoricalDtype', 'CategoricalDtype', 'dtype[float64]', 'CategoricalDtype', 'CategoricalDtype', 'CategoricalDtype', 'CategoricalDtype', 'CategoricalDtype', 'CategoricalDtype', 'CategoricalDtype', 'CategoricalDtype', 'dtype[float64]', 'CategoricalDtype', 'CategoricalDtype', 'CategoricalDtype', 'CategoricalDtype', 'CategoricalDtype', 'CategoricalDtype', 'CategoricalDtype', 'dtype[int8]', 'dtype[int8]', 'CategoricalDtype', 'CategoricalDtype', 'CategoricalDtype', 'CategoricalDtype', 'CategoricalDtype', 'CategoricalDtype', 'CategoricalDtype', 'CategoricalDtype', 'CategoricalDtype', 'CategoricalDtype', 'CategoricalDtype', 'dtype[float32]', 'CategoricalDtype', 'CategoricalDtype', 'CategoricalDtype', 'CategoricalDtype', 'CategoricalDtype', 'CategoricalDtype', 'CategoricalDtype', 'CategoricalDtype', 'CategoricalDtype', 'CategoricalDtype', 'dtype[object_]', 'CategoricalDtype', 'CategoricalDtype', 'CategoricalDtype', 'CategoricalDtype', 'CategoricalDtype', 'CategoricalDtype', 'CategoricalDtype', 'CategoricalDtype', 'CategoricalDtype', 'CategoricalDtype', 'CategoricalDtype', 'CategoricalDtype', 'CategoricalDtype', 'CategoricalDtype', 'CategoricalDtype', 'CategoricalDtype', 'CategoricalDtype', 'CategoricalDtype', 'CategoricalDtype', 'CategoricalDtype', 'CategoricalDtype', 'CategoricalDtype', 'CategoricalDtype', 'CategoricalDtype', 'CategoricalDtype', 'CategoricalDtype', 'CategoricalDtype', 'CategoricalDtype', 'CategoricalDtype', 'CategoricalDtype', 'CategoricalDtype', 'CategoricalDtype', 'CategoricalDtype']\n",
        "\n",
        "# Caso 1: no existe la función.\n",
        "try:\n",
        "    source = inspect.getsource(sin_columnas)\n",
        "    assert type(sin_columnas) == type(lambda:None)\n",
        "except:\n",
        "    raise NotImplementedError(\"No existe una función llamada sin_columnas.\",)\n",
        "    \n",
        "# Caso 2: la función es interrumpida por errores durante su ejecución.\n",
        "try:\n",
        "    resultado = sin_columnas()\n",
        "except:\n",
        "    raise RuntimeError(\"Tu función produce un error al ejecutarse.\")\n",
        "\n",
        "# Caso 3: no retorna un DataFrame\n",
        "assert type(resultado) == pd.DataFrame, f\"Tu función debe retornar un valor de tipo {pd.DataFrame.__name__}.\"\n",
        "\n",
        "# Caso 4: no ejecuta la función importar_e_indexar\n",
        "assert source.find(\"importar_e_indexar()\") >= 0, \"Tu código no hace referencia a la función importar_e_indexar. Asegurate de ejecutarla en tu código.\"\n",
        "\n",
        "# Caso 5: no ejecuta el método drop de pandas\n",
        "assert source.find(\".drop(\") >= 0, \"Tu código no hace referencia al método drop. Asegurate de ejecutarlo en tu código.\"\n",
        "\n",
        "# Caso 6: retorna el dataframe con la columna 'id'\n",
        "assert \"id\" not in resultado.columns, \"Tu función retorna un DataFrame que incluye la columna 'id'. Esta columna debes convertirla en el index del DataFrame.\"\n",
        "\n",
        "# Caso 7: retorna el dataframe con la columna 'country_name'\n",
        "assert \"country_name\" not in resultado.columns, \"Tu función retorna un DataFrame que incluye la columna 'country_name'.\"\n",
        "\n",
        "# Caso 8: retorna el dataframe con la columna 'grado'\n",
        "assert \"grado\" not in resultado.columns, \"Tu función retorna un DataFrame que incluye la columna 'grado'.\"\n",
        "\n",
        "# Caso 9: retorna el dataframe con la columna 'coima'\n",
        "assert \"coima\" not in resultado.columns, \"Tu función retorna un DataFrame que incluye la columna 'coima'.\"\n",
        "\n",
        "# Caso 10: retorna un dataframe con cantidad de columnas errada\n",
        "assert resultado.shape[1] == 125, \"Tu función retorna un DataFrame con cantidad de columnas errada.\"\n",
        "\n",
        "# Caso 11: devuelve un dataframe cuyas columnas tienen nombre distinto de lo esperado\n",
        "assert [*resultado.columns] == nombre_columnas, \"Tu función retorna un DataFrame con columnas cuyos nombres no coinciden con los de los datos del archivo, sin las columnas country_name, grado y coima.\"\n",
        "\n",
        "# Caso 12: devuelve un dataframe cuyas columnas tienen tipo distinto de lo esperado\n",
        "assert [i.__class__.__name__ for i in resultado.dtypes] == tipo_columnas, \"Tu función retorna un DataFrame con columnas cuyos tipos no coinciden con los de los datos del archivo, sin las columnas country_name, grado y coima.\"\n",
        "\n",
        "# Caso 13: devuelve un dataframe con cantidad de filas errada\n",
        "assert resultado.shape[0] == 230509, \"Tu función retorna un DataFrame con cantidad de filas errada.\"\n",
        "\n",
        "# Caso 14: devuelve un dataframe con indice del mismo tipo que por defecto ('int64')\n",
        "assert resultado.index.dtype.name != 'int64', \"Tu función retorna un DataFrame con índice del mismo tipo que el que se crea por defecto en pandas. Asegurate de estar asignando la columna 'id' como índice.\"\n",
        "\n",
        "# Caso 15: devuelve un dataframe con índice de tipo errado\n",
        "assert resultado.index.dtype.name == 'float64', \"Tu función retorna un DataFrame con índice de tipo distinto del esperado. Asegurate de estar usando la columna 'id' sin editarla.\"\n",
        "\n",
        "# Caso 16: primer o última posicion del índice distintas de lo esperado\n",
        "assert resultado.index[0] == 1000060.0, \"Tu función retorna un DataFrame que es errado por lo menos en la primera posición de su índice\"\n",
        "assert resultado.index[len(resultado.index) - 1] == 17003990.0, \"Tu función retorna un DataFrame que es errado por lo menos en la última posición de su índice\"\n",
        "\n",
        "\n",
        "# Mensaje de felicitaciones\n",
        "print(\"Felicidades, realizaste este ejercicio correctamente.\")"
      ],
      "execution_count": 20,
      "outputs": [
        {
          "output_type": "error",
          "ename": "AssertionError",
          "evalue": "ignored",
          "traceback": [
            "\u001b[0;31m---------------------------------------------------------------------------\u001b[0m",
            "\u001b[0;31mAssertionError\u001b[0m                            Traceback (most recent call last)",
            "\u001b[0;32m<ipython-input-20-7039269acae6>\u001b[0m in \u001b[0;36m<module>\u001b[0;34m()\u001b[0m\n\u001b[1;32m     48\u001b[0m \u001b[0;34m\u001b[0m\u001b[0m\n\u001b[1;32m     49\u001b[0m \u001b[0;31m# Caso 12: devuelve un dataframe cuyas columnas tienen tipo distinto de lo esperado\u001b[0m\u001b[0;34m\u001b[0m\u001b[0;34m\u001b[0m\u001b[0;34m\u001b[0m\u001b[0m\n\u001b[0;32m---> 50\u001b[0;31m \u001b[0;32massert\u001b[0m \u001b[0;34m[\u001b[0m\u001b[0mi\u001b[0m\u001b[0;34m.\u001b[0m\u001b[0m__class__\u001b[0m\u001b[0;34m.\u001b[0m\u001b[0m__name__\u001b[0m \u001b[0;32mfor\u001b[0m \u001b[0mi\u001b[0m \u001b[0;32min\u001b[0m \u001b[0mresultado\u001b[0m\u001b[0;34m.\u001b[0m\u001b[0mdtypes\u001b[0m\u001b[0;34m]\u001b[0m \u001b[0;34m==\u001b[0m \u001b[0mtipo_columnas\u001b[0m\u001b[0;34m,\u001b[0m \u001b[0;34m\"Tu función retorna un DataFrame con columnas cuyos tipos no coinciden con los de los datos del archivo, sin las columnas country_name, grado y coima.\"\u001b[0m\u001b[0;34m\u001b[0m\u001b[0;34m\u001b[0m\u001b[0m\n\u001b[0m\u001b[1;32m     51\u001b[0m \u001b[0;34m\u001b[0m\u001b[0m\n\u001b[1;32m     52\u001b[0m \u001b[0;31m# Caso 13: devuelve un dataframe con cantidad de filas errada\u001b[0m\u001b[0;34m\u001b[0m\u001b[0;34m\u001b[0m\u001b[0;34m\u001b[0m\u001b[0m\n",
            "\u001b[0;31mAssertionError\u001b[0m: Tu función retorna un DataFrame con columnas cuyos tipos no coinciden con los de los datos del archivo, sin las columnas country_name, grado y coima."
          ]
        }
      ]
    },
    {
      "cell_type": "markdown",
      "metadata": {
        "deletable": false,
        "editable": false,
        "nbgrader": {
          "cell_type": "markdown",
          "checksum": "b4258403c968aada5d930642d348f207",
          "grade": false,
          "grade_id": "ej4-enun-task",
          "locked": true,
          "schema_version": 3,
          "solution": false,
          "task": false
        },
        "id": "2SkB5ufWUF_2"
      },
      "source": [
        "### Ejercicio 4\n",
        "\n",
        "Implementa una función llamada `indexar_columnas_numericamente` que no reciba parámetros, tome el `DataFrame` resultante del [Ejercicio 1](#Ejercicio-1) y lo retorne sin el grupo de **columnas** cuya posición (indexada desde 0) sea mayor o igual a 80 y menor o igual a 100.\n",
        "\n",
        "La función debe retornar un `DataFrame`."
      ]
    },
    {
      "cell_type": "code",
      "metadata": {
        "deletable": false,
        "nbgrader": {
          "cell_type": "code",
          "checksum": "ab1b934e5066adf602438708d3c79811",
          "grade": false,
          "grade_id": "ej4-sol",
          "locked": false,
          "schema_version": 3,
          "solution": true,
          "task": false
        },
        "id": "RV_BhdeyUF_3"
      },
      "source": [
        "# YOUR CODE HERE\n",
        "def indexar_columnas_numericamente():\n",
        "  df=importar_e_indexar()\n",
        "  df=df.drop(df.columns.values[80:101],axis=1 )\n",
        "  return df"
      ],
      "execution_count": 22,
      "outputs": []
    },
    {
      "cell_type": "code",
      "metadata": {
        "deletable": false,
        "editable": false,
        "nbgrader": {
          "cell_type": "code",
          "checksum": "acd53a33f420be4f8d2bc9805edb3fbb",
          "grade": true,
          "grade_id": "ej4-test",
          "locked": true,
          "points": 1,
          "schema_version": 3,
          "solution": false,
          "task": false
        },
        "id": "eTn_987NUF_8",
        "colab": {
          "base_uri": "https://localhost:8080/",
          "height": 269
        },
        "outputId": "464dac69-7468-4ce9-9c93-11e00a2771a3"
      },
      "source": [
        "## AUTO-CALIFICADOR\n",
        "\n",
        "# Base variables\n",
        "import inspect\n",
        "\n",
        "nombre_columnas = ['country_code', 'country_name', 'weight', 'weight_pop', 'pop', 'recordeddate', 'genero', 'edad', 'educ', 'estcivil', 'nrhogar', 'nrhogar_antes', 'hayninhos', 'ninos_5', 'nrninhos', 'matriculados', 'esc_publica', 'grado', 'haymayores', 'diasmercado', 'lugarmercado', 'comprotodo', 'nocompra_pan', 'nocompra_vegetal', 'nocompra_carne', 'nocompra_envasados', 'nocompra_bebidas', 'nocompra_limpieza', 'nocompra_medicinas', 'nocompra_otro', 'nrnegocios', 'esperarfila', 'subaprecios', 'hambre', 'menos_saludable', 'vivienda', 'probvivienda', 'probvivienda_prox', 'ayuda_alquiler', 'sufialimento', 'sufirecursos', 'gasto_emergencia', 'monto_gasto', 'pre_cash', 'new_cash', 'coima', 'tiene_banco', 'tiene_tarjdebito', 'tiene_segsaludpub', 'tiene_segsaludpriv', 'recibeprestamos', 'darprestamos', 'remesas_enero', 'remesas_origen', 'remesas_persona', 'recibio_remesas', 'lm_perdioempleo', 'lm_cerronegocio_gob', 'lm_cerronegocio_dem', 'lm_asistmedica', 'lm_perdioingrarriendo', 'lm_dejoasistencia', 'lm_freq', 'recibio_ayudaemp', 'compromiso_futurotrabajo', 'empleo_formal', 'actividad_empleado', 'actividad_negocio', 'actividad_estudio', 'trabajocasa', 'diastrabajo', 'horastrabajo', 'sector', 'redujo_ingreso', 'ingreso_jan2020', 'ingreso_apr2020', 'retorno_ingreso', 'sintoma_ninguno', 'sintoma_garganta', 'sintoma_gripe', 'recom_amigos', 'recom_familiares', 'recom_ejercicio', 'recom_iglesia', 'haceds_hogar', 'haceds_vecinos', 'haceds_jovenes', 'haceds_mayores', 'haceds_otropais', 'haceds_emplmercados', 'medios_noti_redessociales', 'medios_noti_chat', 'medios_noti_periodicos', 'medios_noti_tv', 'medios_noti_radio', 'medios_covid_redessociales', 'medios_covid_chat', 'medios_covid_periodicos', 'medios_covid_tv', 'medios_covid_radio', 'nps_medio_redessoc', 'nps_medio_sms', 'nps_medio_periodico', 'nps_medio_tv', 'nps_medio_radio', 'nps_medio_website', 'nps_medio_otro']\n",
        "tipo_columnas = ['CategoricalDtype', 'dtype[object_]', 'dtype[float32]', 'dtype[float32]', 'dtype[float64]', 'dtype[object_]', 'CategoricalDtype', 'dtype[int16]', 'CategoricalDtype', 'CategoricalDtype', 'dtype[int8]', 'dtype[int8]', 'CategoricalDtype', 'CategoricalDtype', 'dtype[float64]', 'dtype[float64]', 'CategoricalDtype', 'dtype[float64]', 'CategoricalDtype', 'CategoricalDtype', 'CategoricalDtype', 'CategoricalDtype', 'CategoricalDtype', 'CategoricalDtype', 'CategoricalDtype', 'CategoricalDtype', 'CategoricalDtype', 'CategoricalDtype', 'CategoricalDtype', 'CategoricalDtype', 'CategoricalDtype', 'CategoricalDtype', 'CategoricalDtype', 'CategoricalDtype', 'CategoricalDtype', 'CategoricalDtype', 'CategoricalDtype', 'CategoricalDtype', 'CategoricalDtype', 'CategoricalDtype', 'CategoricalDtype', 'CategoricalDtype', 'dtype[float32]', 'CategoricalDtype', 'CategoricalDtype', 'CategoricalDtype', 'CategoricalDtype', 'CategoricalDtype', 'CategoricalDtype', 'CategoricalDtype', 'CategoricalDtype', 'CategoricalDtype', 'CategoricalDtype', 'dtype[float64]', 'CategoricalDtype', 'CategoricalDtype', 'CategoricalDtype', 'CategoricalDtype', 'CategoricalDtype', 'CategoricalDtype', 'CategoricalDtype', 'CategoricalDtype', 'dtype[float64]', 'CategoricalDtype', 'CategoricalDtype', 'CategoricalDtype', 'CategoricalDtype', 'CategoricalDtype', 'CategoricalDtype', 'CategoricalDtype', 'dtype[int8]', 'dtype[int8]', 'CategoricalDtype', 'CategoricalDtype', 'CategoricalDtype', 'CategoricalDtype', 'CategoricalDtype', 'CategoricalDtype', 'CategoricalDtype', 'CategoricalDtype', 'CategoricalDtype', 'CategoricalDtype', 'CategoricalDtype', 'CategoricalDtype', 'CategoricalDtype', 'CategoricalDtype', 'CategoricalDtype', 'CategoricalDtype', 'CategoricalDtype', 'CategoricalDtype', 'CategoricalDtype', 'CategoricalDtype', 'CategoricalDtype', 'CategoricalDtype', 'CategoricalDtype', 'CategoricalDtype', 'CategoricalDtype', 'CategoricalDtype', 'CategoricalDtype', 'CategoricalDtype', 'CategoricalDtype', 'CategoricalDtype', 'CategoricalDtype', 'CategoricalDtype', 'CategoricalDtype', 'CategoricalDtype', 'CategoricalDtype']\n",
        "\n",
        "# Caso 1: no existe la función.\n",
        "try:\n",
        "    source = inspect.getsource(indexar_columnas_numericamente)\n",
        "    assert type(indexar_columnas_numericamente) == type(lambda:None)\n",
        "except:\n",
        "    raise NotImplementedError(\"No existe una función llamada indexar_columnas_numericamente.\",)\n",
        "    \n",
        "# Caso 2: la función es interrumpida por errores durante su ejecución.\n",
        "try:\n",
        "    resultado = indexar_columnas_numericamente()\n",
        "except:\n",
        "    raise RuntimeError(\"Tu función produce un error al ejecutarse.\")\n",
        "\n",
        "# Caso 3: no retorna un DataFrame\n",
        "assert type(resultado) == pd.DataFrame, f\"Tu función debe retornar un valor de tipo {pd.DataFrame.__name__}.\"\n",
        "\n",
        "# Caso 4: no ejecuta la función importar_e_indexar\n",
        "assert source.find(\"importar_e_indexar()\") >= 0, \"Tu código no hace referencia a la función importar_e_indexar. Asegurate de ejecutarla en tu código.\"\n",
        "\n",
        "# Caso 5: retorna el dataframe con la columna 'id'\n",
        "assert \"id\" not in resultado.columns, \"Tu función retorna un DataFrame que incluye la columna 'id'. Esta columna debes convertirla en el index del DataFrame.\"\n",
        "\n",
        "# Caso 6: retorna un dataframe con cantidad de columnas errada\n",
        "assert resultado.shape[1] == 107, \"Tu función retorna un DataFrame con cantidad de columnas errada.\"\n",
        "\n",
        "# Caso 7: devuelve un dataframe cuyas columnas tienen nombre distinto de lo esperado\n",
        "assert [*resultado.columns] == nombre_columnas, \"Tu función retorna un DataFrame con columnas cuyos nombres no coinciden con los de los datos del archivo. Asegurate de estar filtrando las columnas indicadas.\"\n",
        "\n",
        "# Caso 8: devuelve un dataframe cuyas columnas tienen tipo distinto de lo esperado\n",
        "assert [i.__class__.__name__ for i in resultado.dtypes] == tipo_columnas, \"Tu función retorna un DataFrame con columnas cuyos tipos no coinciden con los de los datos del archivo. Asegurate de estar filtrando las columnas indicadas.\"\n",
        "\n",
        "# Caso 9: devuelve un dataframe con cantidad de filas errada\n",
        "assert resultado.shape[0] == 230509, \"Tu función retorna un DataFrame con cantidad de filas errada.\"\n",
        "\n",
        "# Caso 10: devuelve un dataframe con indice del mismo tipo que por defecto ('int64')\n",
        "assert resultado.index.dtype.name != 'int64', \"Tu función retorna un DataFrame con índice del mismo tipo que el que se crea por defecto en pandas. Asegurate de estar asignando la columna 'id' como índice.\"\n",
        "\n",
        "# Caso 11: devuelve un dataframe con índice de tipo errado\n",
        "assert resultado.index.dtype.name == 'float64', \"Tu función retorna un DataFrame con índice de tipo distinto del esperado. Asegurate de estar usando la columna 'id' sin editarla.\"\n",
        "\n",
        "# Caso 12: primer o última posicion del índice distintas de lo esperado\n",
        "assert resultado.index[0] == 1000060.0, \"Tu función retorna un DataFrame que es errado por lo menos en la primera posición de su índice\"\n",
        "assert resultado.index[len(resultado.index) - 1] == 17003990.0, \"Tu función retorna un DataFrame que es errado por lo en menos la última posición de su índice\"\n",
        "\n",
        "\n",
        "# Mensaje de felicitaciones\n",
        "print(\"Felicidades, realizaste este ejercicio correctamente.\")"
      ],
      "execution_count": 25,
      "outputs": [
        {
          "output_type": "error",
          "ename": "AssertionError",
          "evalue": "ignored",
          "traceback": [
            "\u001b[0;31m---------------------------------------------------------------------------\u001b[0m",
            "\u001b[0;31mAssertionError\u001b[0m                            Traceback (most recent call last)",
            "\u001b[0;32m<ipython-input-25-337198a35f7b>\u001b[0m in \u001b[0;36m<module>\u001b[0;34m()\u001b[0m\n\u001b[1;32m     36\u001b[0m \u001b[0;34m\u001b[0m\u001b[0m\n\u001b[1;32m     37\u001b[0m \u001b[0;31m# Caso 8: devuelve un dataframe cuyas columnas tienen tipo distinto de lo esperado\u001b[0m\u001b[0;34m\u001b[0m\u001b[0;34m\u001b[0m\u001b[0;34m\u001b[0m\u001b[0m\n\u001b[0;32m---> 38\u001b[0;31m \u001b[0;32massert\u001b[0m \u001b[0;34m[\u001b[0m\u001b[0mi\u001b[0m\u001b[0;34m.\u001b[0m\u001b[0m__class__\u001b[0m\u001b[0;34m.\u001b[0m\u001b[0m__name__\u001b[0m \u001b[0;32mfor\u001b[0m \u001b[0mi\u001b[0m \u001b[0;32min\u001b[0m \u001b[0mresultado\u001b[0m\u001b[0;34m.\u001b[0m\u001b[0mdtypes\u001b[0m\u001b[0;34m]\u001b[0m \u001b[0;34m==\u001b[0m \u001b[0mtipo_columnas\u001b[0m\u001b[0;34m,\u001b[0m \u001b[0;34m\"Tu función retorna un DataFrame con columnas cuyos tipos no coinciden con los de los datos del archivo. Asegurate de estar filtrando las columnas indicadas.\"\u001b[0m\u001b[0;34m\u001b[0m\u001b[0;34m\u001b[0m\u001b[0m\n\u001b[0m\u001b[1;32m     39\u001b[0m \u001b[0;34m\u001b[0m\u001b[0m\n\u001b[1;32m     40\u001b[0m \u001b[0;31m# Caso 9: devuelve un dataframe con cantidad de filas errada\u001b[0m\u001b[0;34m\u001b[0m\u001b[0;34m\u001b[0m\u001b[0;34m\u001b[0m\u001b[0m\n",
            "\u001b[0;31mAssertionError\u001b[0m: Tu función retorna un DataFrame con columnas cuyos tipos no coinciden con los de los datos del archivo. Asegurate de estar filtrando las columnas indicadas."
          ]
        }
      ]
    },
    {
      "cell_type": "markdown",
      "metadata": {
        "deletable": false,
        "editable": false,
        "nbgrader": {
          "cell_type": "markdown",
          "checksum": "1a03b1dcbfb7c4a3b011180149af760d",
          "grade": false,
          "grade_id": "ej5-enun-task",
          "locked": true,
          "schema_version": 3,
          "solution": false,
          "task": false
        },
        "id": "XbtwEer1UF_9"
      },
      "source": [
        "### Ejercicio 5\n",
        "\n",
        "A raiz de la pandemia, los gobiernos de latinoamérica desean monitorear a aquellas personas que salen de sus casas a trabajar y conviven con personas mayores de 60 años.\n",
        "\n",
        "Implementa una función llamada `trabajo_afuera_y_mayores` que no reciba parámetros, tome el `DataFrame` resultante del [Ejercicio 1](#Ejercicio-1) y lo retorne únicamente con los registros que en la columna `\"trabajocasa\"` tengan el valor `\"Fuera de su casa\"` y que en la columna `\"haymayores\"` tengan el valor `\"si\"`.\n",
        "\n",
        "La función debe retornar un `DataFrame`."
      ]
    },
    {
      "cell_type": "code",
      "metadata": {
        "deletable": false,
        "nbgrader": {
          "cell_type": "code",
          "checksum": "b43106e57f785bab57014974dcebd285",
          "grade": false,
          "grade_id": "ej5-sol",
          "locked": false,
          "schema_version": 3,
          "solution": true,
          "task": false
        },
        "id": "GwIp6lGwUF_9"
      },
      "source": [
        "# YOUR CODE HERE\n",
        "def trabajo_afuera_y_mayores():\n",
        "  df=importar_e_indexar()\n",
        "  df=df[(df[\"trabajocasa\"]==\"Fuera de su casa\")& (df[\"haymayores\"]==\"si\")]\n",
        "  return df"
      ],
      "execution_count": 26,
      "outputs": []
    },
    {
      "cell_type": "code",
      "metadata": {
        "deletable": false,
        "editable": false,
        "nbgrader": {
          "cell_type": "code",
          "checksum": "cedb96db759a82fe49285312612df1fb",
          "grade": true,
          "grade_id": "ej5-test",
          "locked": true,
          "points": 1,
          "schema_version": 3,
          "solution": false,
          "task": false
        },
        "id": "d6OhEweHUF_-",
        "colab": {
          "base_uri": "https://localhost:8080/",
          "height": 252
        },
        "outputId": "47db3a1b-51fb-4bdb-e1a1-a26735e28a0d"
      },
      "source": [
        "## AUTO-CALIFICADOR\n",
        "\n",
        "# Base variables\n",
        "import inspect\n",
        "\n",
        "nombre_columnas = ['country_code', 'country_name', 'weight', 'weight_pop', 'pop', 'recordeddate', 'genero', 'edad', 'educ', 'estcivil', 'nrhogar', 'nrhogar_antes', 'hayninhos', 'ninos_5', 'nrninhos', 'matriculados', 'esc_publica', 'grado', 'haymayores', 'diasmercado', 'lugarmercado', 'comprotodo', 'nocompra_pan', 'nocompra_vegetal', 'nocompra_carne', 'nocompra_envasados', 'nocompra_bebidas', 'nocompra_limpieza', 'nocompra_medicinas', 'nocompra_otro', 'nrnegocios', 'esperarfila', 'subaprecios', 'hambre', 'menos_saludable', 'vivienda', 'probvivienda', 'probvivienda_prox', 'ayuda_alquiler', 'sufialimento', 'sufirecursos', 'gasto_emergencia', 'monto_gasto', 'pre_cash', 'new_cash', 'coima', 'tiene_banco', 'tiene_tarjdebito', 'tiene_segsaludpub', 'tiene_segsaludpriv', 'recibeprestamos', 'darprestamos', 'remesas_enero', 'remesas_origen', 'remesas_persona', 'recibio_remesas', 'lm_perdioempleo', 'lm_cerronegocio_gob', 'lm_cerronegocio_dem', 'lm_asistmedica', 'lm_perdioingrarriendo', 'lm_dejoasistencia', 'lm_freq', 'recibio_ayudaemp', 'compromiso_futurotrabajo', 'empleo_formal', 'actividad_empleado', 'actividad_negocio', 'actividad_estudio', 'trabajocasa', 'diastrabajo', 'horastrabajo', 'sector', 'redujo_ingreso', 'ingreso_jan2020', 'ingreso_apr2020', 'retorno_ingreso', 'sintoma_ninguno', 'sintoma_garganta', 'sintoma_gripe', 'sintoma_sarpullido', 'sintoma_fiebre', 'sintoma_tos', 'conoce_sintomas', 'infectados_sinsintomas', 'sinsintomas_contagiar', 'visito_trabajo', 'visito_hospital', 'visito_mercado', 'visito_banco', 'visito_amigos', 'visito_familiares', 'visito_ejercitar', 'visito_iglesia', 'comotransmite', 'sabe_comotransmite', 'distsoc', 'recom_trabajo', 'recom_hospital', 'recom_mercado', 'recom_banco', 'recom_amigos', 'recom_familiares', 'recom_ejercicio', 'recom_iglesia', 'haceds_hogar', 'haceds_vecinos', 'haceds_jovenes', 'haceds_mayores', 'haceds_otropais', 'haceds_emplmercados', 'medios_noti_redessociales', 'medios_noti_chat', 'medios_noti_periodicos', 'medios_noti_tv', 'medios_noti_radio', 'medios_covid_redessociales', 'medios_covid_chat', 'medios_covid_periodicos', 'medios_covid_tv', 'medios_covid_radio', 'nps_medio_redessoc', 'nps_medio_sms', 'nps_medio_periodico', 'nps_medio_tv', 'nps_medio_radio', 'nps_medio_website', 'nps_medio_otro']\n",
        "tipo_columnas = ['CategoricalDtype', 'dtype[object_]', 'dtype[float32]', 'dtype[float32]', 'dtype[float64]', 'dtype[object_]', 'CategoricalDtype', 'dtype[int16]', 'CategoricalDtype', 'CategoricalDtype', 'dtype[int8]', 'dtype[int8]', 'CategoricalDtype', 'CategoricalDtype', 'dtype[float64]', 'dtype[float64]', 'CategoricalDtype', 'dtype[float64]', 'CategoricalDtype', 'CategoricalDtype', 'CategoricalDtype', 'CategoricalDtype', 'CategoricalDtype', 'CategoricalDtype', 'CategoricalDtype', 'CategoricalDtype', 'CategoricalDtype', 'CategoricalDtype', 'CategoricalDtype', 'CategoricalDtype', 'CategoricalDtype', 'CategoricalDtype', 'CategoricalDtype', 'CategoricalDtype', 'CategoricalDtype', 'CategoricalDtype', 'CategoricalDtype', 'CategoricalDtype', 'CategoricalDtype', 'CategoricalDtype', 'CategoricalDtype', 'CategoricalDtype', 'dtype[float32]', 'CategoricalDtype', 'CategoricalDtype', 'CategoricalDtype', 'CategoricalDtype', 'CategoricalDtype', 'CategoricalDtype', 'CategoricalDtype', 'CategoricalDtype', 'CategoricalDtype', 'CategoricalDtype', 'dtype[float64]', 'CategoricalDtype', 'CategoricalDtype', 'CategoricalDtype', 'CategoricalDtype', 'CategoricalDtype', 'CategoricalDtype', 'CategoricalDtype', 'CategoricalDtype', 'dtype[float64]', 'CategoricalDtype', 'CategoricalDtype', 'CategoricalDtype', 'CategoricalDtype', 'CategoricalDtype', 'CategoricalDtype', 'CategoricalDtype', 'dtype[int8]', 'dtype[int8]', 'CategoricalDtype', 'CategoricalDtype', 'CategoricalDtype', 'CategoricalDtype', 'CategoricalDtype', 'CategoricalDtype', 'CategoricalDtype', 'CategoricalDtype', 'CategoricalDtype', 'CategoricalDtype', 'CategoricalDtype', 'dtype[float32]', 'CategoricalDtype', 'CategoricalDtype', 'CategoricalDtype', 'CategoricalDtype', 'CategoricalDtype', 'CategoricalDtype', 'CategoricalDtype', 'CategoricalDtype', 'CategoricalDtype', 'CategoricalDtype', 'dtype[object_]', 'CategoricalDtype', 'CategoricalDtype', 'CategoricalDtype', 'CategoricalDtype', 'CategoricalDtype', 'CategoricalDtype', 'CategoricalDtype', 'CategoricalDtype', 'CategoricalDtype', 'CategoricalDtype', 'CategoricalDtype', 'CategoricalDtype', 'CategoricalDtype', 'CategoricalDtype', 'CategoricalDtype', 'CategoricalDtype', 'CategoricalDtype', 'CategoricalDtype', 'CategoricalDtype', 'CategoricalDtype', 'CategoricalDtype', 'CategoricalDtype', 'CategoricalDtype', 'CategoricalDtype', 'CategoricalDtype', 'CategoricalDtype', 'CategoricalDtype', 'CategoricalDtype', 'CategoricalDtype', 'CategoricalDtype', 'CategoricalDtype', 'CategoricalDtype', 'CategoricalDtype']\n",
        "\n",
        "# Caso 1: no existe la función.\n",
        "try:\n",
        "    source = inspect.getsource(trabajo_afuera_y_mayores)\n",
        "    assert type(trabajo_afuera_y_mayores) == type(lambda:None)\n",
        "except:\n",
        "    raise NotImplementedError(\"No existe una función llamada trabajo_afuera_y_mayores.\",)\n",
        "    \n",
        "# Caso 2: la función es interrumpida por errores durante su ejecución.\n",
        "try:\n",
        "    resultado = trabajo_afuera_y_mayores()\n",
        "except:\n",
        "    raise RuntimeError(\"Tu función produce un error al ejecutarse.\")\n",
        "\n",
        "# Caso 3: no retorna un DataFrame\n",
        "assert type(resultado) == pd.DataFrame, f\"Tu función debe retornar un valor de tipo {pd.DataFrame.__name__}.\"\n",
        "\n",
        "# Caso 4: no ejecuta la función importar_e_indexar\n",
        "assert source.find(\"importar_e_indexar()\") >= 0, \"Tu código no hace referencia a la función importar_e_indexar. Asegurate de ejecutarla en tu código.\"\n",
        "\n",
        "# Caso 5: retorna el dataframe con la columna 'id'\n",
        "assert \"id\" not in resultado.columns, \"Tu función retorna un DataFrame que incluye la columna 'id'. Esta columna debes haberla convertido en el index sencillo del DataFrame.\"\n",
        "\n",
        "# Caso 6: retorna un dataframe con cantidad de columnas errada\n",
        "assert resultado.shape[1] == 128, \"Tu función retorna un DataFrame con cantidad de columnas errada.\"\n",
        "\n",
        "# Caso 7: devuelve un dataframe cuyas columnas tienen nombre distinto de lo esperado\n",
        "assert [*resultado.columns] == nombre_columnas, \"Tu función retorna un DataFrame con columnas cuyos nombres no coinciden con los de los datos del archivo.\"\n",
        "\n",
        "# Caso 8: devuelve un dataframe cuyas columnas tienen tipo distinto de lo esperado\n",
        "assert [i.__class__.__name__ for i in resultado.dtypes] == tipo_columnas, \"Tu función retorna un DataFrame con columnas cuyos tipos no coinciden con los de los datos del archivo.\"\n",
        "\n",
        "# Caso 9: devuelve un dataframe con cantidad de filas errada\n",
        "assert resultado.shape[0] == 14311, \"Tu función retorna un DataFrame con cantidad de filas errada.\"\n",
        "\n",
        "# Caso 10: devuelve un dataframe con indice del mismo tipo que por defecto ('int64')\n",
        "assert resultado.index.dtype.name != 'int64', \"Tu función retorna un DataFrame con índice del mismo tipo que el que se crea por defecto en pandas. Asegurate de estar asignando la columna 'id' como índice.\"\n",
        "\n",
        "# Caso 11: devuelve un dataframe con índice de tipo errado\n",
        "assert resultado.index.dtype.name == 'float64', \"Tu función retorna un DataFrame con índice de tipo distinto del esperado. Asegurate de estar usando la columna 'id' sin editarla.\"\n",
        "\n",
        "# Caso 12: primera o última posicion del índice distintas de lo esperado\n",
        "assert resultado.index[0] == 1000019.0, \"Tu función retorna un DataFrame que es errado por lo menos en la primera posición de su índice\"\n",
        "assert resultado.index[len(resultado.index) - 1] == 17020778.0, \"Tu función retorna un DataFrame que es errado por lo menos en la última posición de su índice\"\n",
        "\n",
        "\n",
        "# Mensaje de felicitaciones\n",
        "print(\"Felicidades, realizaste este ejercicio correctamente.\")"
      ],
      "execution_count": 31,
      "outputs": [
        {
          "output_type": "error",
          "ename": "AssertionError",
          "evalue": "ignored",
          "traceback": [
            "\u001b[0;31m---------------------------------------------------------------------------\u001b[0m",
            "\u001b[0;31mAssertionError\u001b[0m                            Traceback (most recent call last)",
            "\u001b[0;32m<ipython-input-31-6845f1b2f3ae>\u001b[0m in \u001b[0;36m<module>\u001b[0;34m()\u001b[0m\n\u001b[1;32m     36\u001b[0m \u001b[0;34m\u001b[0m\u001b[0m\n\u001b[1;32m     37\u001b[0m \u001b[0;31m# Caso 8: devuelve un dataframe cuyas columnas tienen tipo distinto de lo esperado\u001b[0m\u001b[0;34m\u001b[0m\u001b[0;34m\u001b[0m\u001b[0;34m\u001b[0m\u001b[0m\n\u001b[0;32m---> 38\u001b[0;31m \u001b[0;32massert\u001b[0m \u001b[0;34m[\u001b[0m\u001b[0mi\u001b[0m\u001b[0;34m.\u001b[0m\u001b[0m__class__\u001b[0m\u001b[0;34m.\u001b[0m\u001b[0m__name__\u001b[0m \u001b[0;32mfor\u001b[0m \u001b[0mi\u001b[0m \u001b[0;32min\u001b[0m \u001b[0mresultado\u001b[0m\u001b[0;34m.\u001b[0m\u001b[0mdtypes\u001b[0m\u001b[0;34m]\u001b[0m \u001b[0;34m==\u001b[0m \u001b[0mtipo_columnas\u001b[0m\u001b[0;34m,\u001b[0m \u001b[0;34m\"Tu función retorna un DataFrame con columnas cuyos tipos no coinciden con los de los datos del archivo.\"\u001b[0m\u001b[0;34m\u001b[0m\u001b[0;34m\u001b[0m\u001b[0m\n\u001b[0m\u001b[1;32m     39\u001b[0m \u001b[0;34m\u001b[0m\u001b[0m\n\u001b[1;32m     40\u001b[0m \u001b[0;31m# Caso 9: devuelve un dataframe con cantidad de filas errada\u001b[0m\u001b[0;34m\u001b[0m\u001b[0;34m\u001b[0m\u001b[0;34m\u001b[0m\u001b[0m\n",
            "\u001b[0;31mAssertionError\u001b[0m: Tu función retorna un DataFrame con columnas cuyos tipos no coinciden con los de los datos del archivo."
          ]
        }
      ]
    },
    {
      "cell_type": "markdown",
      "metadata": {
        "deletable": false,
        "editable": false,
        "nbgrader": {
          "cell_type": "markdown",
          "checksum": "d12b16c9a90eede0b87d1a8d1433987f",
          "grade": false,
          "grade_id": "ej6-enun-task",
          "locked": true,
          "schema_version": 3,
          "solution": false,
          "task": false
        },
        "id": "W1Ds59weUF_-"
      },
      "source": [
        "### Ejercicio 6\n",
        "\n",
        "Implementa una función llamada `hogares_decrecen` que no reciba parámetros, tome el `DataFrame` resultante del [Ejercicio 1](#Ejercicio-1) y retorne un `DataFrame` únicamente con las columnas `\"nrhogar\"`, `\"nrhogar_antes\"` y una columna adicional llamada `\"hogar_decrecio\"` que para cada registro tome un valor de:\n",
        "\n",
        "* `1`, si el valor numérico de la columna `\"nrhogar\"` es menor que el valor de la columna `\"nrhogar_antes\"`;\n",
        "\n",
        "* `0`, de lo contrario.\n",
        "\n",
        "La función debe retornar un `DataFrame`."
      ]
    },
    {
      "cell_type": "code",
      "metadata": {
        "deletable": false,
        "nbgrader": {
          "cell_type": "code",
          "checksum": "f05f66fe96721863fcd8f5273044e584",
          "grade": false,
          "grade_id": "ej6-sol",
          "locked": false,
          "schema_version": 3,
          "solution": true,
          "task": false
        },
        "id": "w53gp8M2UF_-"
      },
      "source": [
        "# YOUR CODE HERE\n",
        "def hogares_decrecen():\n",
        "  df=importar_e_indexar()\n",
        "  df=df[[\"nrhogar\",\"nrhogar_antes\"]]\n",
        "  df[\"hogar_decrecio\"]=0\n",
        "  df[\"hogar_decrecio\"][df[\"nrhogar\"]<df[\"nrhogar_antes\"]]=1\n",
        "  return df"
      ],
      "execution_count": 34,
      "outputs": []
    },
    {
      "cell_type": "code",
      "metadata": {
        "deletable": false,
        "editable": false,
        "nbgrader": {
          "cell_type": "code",
          "checksum": "6be36a910849581cd11f5907dfe3f3bd",
          "grade": true,
          "grade_id": "ej6-test",
          "locked": true,
          "points": 1,
          "schema_version": 3,
          "solution": false,
          "task": false
        },
        "id": "xAT_MIk4UF__",
        "colab": {
          "base_uri": "https://localhost:8080/"
        },
        "outputId": "b89ef8a7-3dd2-430f-8d83-1d5f745b77c3"
      },
      "source": [
        "## AUTO-CALIFICADOR\n",
        "\n",
        "# Base variables\n",
        "import inspect\n",
        "\n",
        "nombre_columnas = ['nrhogar','nrhogar_antes','hogar_decrecio']\n",
        "tipo_columnas = ['int', 'int', 'int']\n",
        "\n",
        "# Caso 1: no existe la función.\n",
        "try:\n",
        "    source = inspect.getsource(hogares_decrecen)\n",
        "    assert type(hogares_decrecen) == type(lambda:None)\n",
        "except:\n",
        "    raise NotImplementedError(\"No existe una función llamada hogares_decrecen.\",)\n",
        "    \n",
        "# Caso 2: la función es interrumpida por errores durante su ejecución.\n",
        "try:\n",
        "    resultado = hogares_decrecen()\n",
        "except:\n",
        "    raise RuntimeError(\"Tu función produce un error al ejecutarse.\")\n",
        "\n",
        "# Caso 3: no retorna un DataFrame\n",
        "assert type(resultado) == pd.DataFrame, f\"Tu función debe retornar un valor de tipo {pd.DataFrame.__name__}.\"\n",
        "\n",
        "# Caso 4: no ejecuta la función importar_e_indexar\n",
        "assert source.find(\"importar_e_indexar()\") >= 0, \"Tu código no hace referencia a la función importar_e_indexar. Asegurate de ejecutarla en tu código.\"\n",
        "\n",
        "# Caso 5: retorna el dataframe con la columna 'id'\n",
        "assert \"id\" not in resultado.columns, \"Tu función retorna un DataFrame que incluye la columna 'id'. Esta columna debes convertirla en el index del DataFrame.\"\n",
        "\n",
        "# Caso 6: retorna un dataframe con cantidad de columnas errada\n",
        "assert resultado.shape[1] == 3, \"Tu función retorna un DataFrame con cantidad de columnas errada.\"\n",
        "\n",
        "# Caso 7: devuelve un dataframe cuyas columnas tienen nombre distinto de lo esperado\n",
        "assert [*resultado.columns] == nombre_columnas, \"Tu función retorna un DataFrame con columnas cuyos nombres no son nrhogar, nrhogar_antes y hogar_decrecio (en ese orden).\"\n",
        "\n",
        "# Caso 8: devuelve un dataframe cuyas columnas tienen tipo distinto de lo esperado\n",
        "assert [i.name[0:3] for i in resultado.dtypes] == tipo_columnas, \"Tu función retorna un DataFrame con columnas cuyos tipos no coinciden con los esperados. Asegurate de registrar los 0 y 1 como números enteros.\"\n",
        "\n",
        "# Caso 9: devuelve un dataframe con cantidad de filas errada\n",
        "assert resultado.shape[0] == 230509, \"Tu función retorna un DataFrame con cantidad de filas errada.\"\n",
        "\n",
        "# Caso 10: devuelve un dataframe con indice del mismo tipo que por defecto ('int64')\n",
        "assert resultado.index.dtype.name != 'int64', \"Tu función retorna un DataFrame con índice del mismo tipo que el que se crea por defecto en pandas. Asegurate de estar asignando la columna 'id' como índice.\"\n",
        "\n",
        "# Caso 11: devuelve un dataframe con índice de tipo errado\n",
        "assert resultado.index.dtype.name == 'float64', \"Tu función retorna un DataFrame con índice de tipo distinto del esperado. Asegurate de estar usando la columna 'id' sin editarla.\"\n",
        "\n",
        "# Caso 12: primer o última posicion del índice distintas de lo esperado\n",
        "assert resultado.index[0] == 1000060.0, \"Tu función retorna un DataFrame que es errado por lo menos en la primera posición de su índice\"\n",
        "assert resultado.index[len(resultado.index) - 1] == 17003990.0, \"Tu función retorna un DataFrame que es errado por lo menos en la última posición de su índice\"\n",
        "\n",
        "# Caso 13: asigna más de dos valores únicos a la columna hogar_decrecio\n",
        "assert len(resultado[\"hogar_decrecio\"].unique()) == 2, \"Tu función retorna un DataFrame que que en la columna hogar_decrecio incluye más de dos valores únicos. Recuerda que esta columna solo debe incluir los números enteros 0 y 1.\"\n",
        "\n",
        "# Caso 14: no asigna 0 y 1 como únicos valores a la columna hogar_decrecio\n",
        "assert 0 in resultado[\"hogar_decrecio\"].unique() and 1 in resultado[\"hogar_decrecio\"].unique(), \"Tu función retorna un DataFrame que que en la columna hogar_decrecio incluye valores distintos de los números enteros 0 y 1.\"\n",
        "\n",
        "# Caso 15: asigna mal el valor binario.\n",
        "assert sum(resultado[\"hogar_decrecio\"]) == 19908, \"Tu función retorna un DataFrame que que en la columna hogar_decrecio asigna de manera errada los valores 0 y 1.\"\n",
        "\n",
        "\n",
        "# Mensaje de felicitaciones\n",
        "print(\"Felicidades, realizaste este ejercicio correctamente.\")"
      ],
      "execution_count": 38,
      "outputs": [
        {
          "output_type": "stream",
          "name": "stdout",
          "text": [
            "Felicidades, realizaste este ejercicio correctamente.\n"
          ]
        },
        {
          "output_type": "stream",
          "name": "stderr",
          "text": [
            "/usr/local/lib/python3.7/dist-packages/ipykernel_launcher.py:6: SettingWithCopyWarning: \n",
            "A value is trying to be set on a copy of a slice from a DataFrame\n",
            "\n",
            "See the caveats in the documentation: https://pandas.pydata.org/pandas-docs/stable/user_guide/indexing.html#returning-a-view-versus-a-copy\n",
            "  \n"
          ]
        }
      ]
    },
    {
      "cell_type": "markdown",
      "metadata": {
        "deletable": false,
        "editable": false,
        "nbgrader": {
          "cell_type": "markdown",
          "checksum": "d1973f4daf8247790372f1ef7b2f725e",
          "grade": false,
          "grade_id": "refs",
          "locked": true,
          "schema_version": 3,
          "solution": false,
          "task": false
        },
        "id": "P3OyFCcdUF__"
      },
      "source": [
        "## Referencias\n",
        "\n",
        "BID (2020). Encuesta Coronavirus BID/Cornell. Recuperado el 11 de febrero de 2020 de: https://data.iadb.org/DataCatalog/Dataset#DataCatalogID=11319/28452"
      ]
    },
    {
      "cell_type": "markdown",
      "metadata": {
        "deletable": false,
        "editable": false,
        "nbgrader": {
          "cell_type": "markdown",
          "checksum": "5aff895a98a269f9a425808568348187",
          "grade": false,
          "grade_id": "creds",
          "locked": true,
          "schema_version": 3,
          "solution": false,
          "task": false
        },
        "id": "weVdzxTeUGAA"
      },
      "source": [
        "## Créditos\n",
        "\n",
        "**Autor(es)**: Jorge Esteban Camargo Forero, Alejandro Mantilla Redondo, Diego Alejandro Cely Gómez\n",
        "\n",
        "**Fecha última actualización:** 10/09/2021"
      ]
    }
  ]
}